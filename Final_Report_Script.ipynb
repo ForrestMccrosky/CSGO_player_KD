{
 "cells": [
  {
   "cell_type": "code",
   "execution_count": 1,
   "metadata": {},
   "outputs": [],
   "source": [
    "import pandas as pd\n",
    "import numpy as np\n",
    "import matplotlib.pyplot as plt\n",
    "\n",
    "import seaborn as sns\n",
    "\n",
    "\n",
    "# feature selection imports\n",
    "from sklearn.feature_selection import SelectKBest, f_regression\n",
    "from sklearn.feature_selection import RFE\n",
    "\n",
    "# import scaling methods\n",
    "from sklearn.preprocessing import RobustScaler, StandardScaler\n",
    "from scipy import stats\n",
    "from sklearn.model_selection import train_test_split\n",
    "\n",
    "# import modeling methods\n",
    "from sklearn.cluster import KMeans\n",
    "from sklearn.metrics import mean_squared_error, r2_score \n",
    "from sklearn.linear_model import LinearRegression, LassoLars, TweedieRegressor\n",
    "from sklearn.preprocessing import PolynomialFeatures\n",
    "from sklearn.metrics import explained_variance_score\n",
    "from scipy import stats\n",
    "\n",
    "# import to remove warnings\n",
    "import warnings\n",
    "warnings.filterwarnings(\"ignore\")\n",
    "\n",
    "## custome script imports\n",
    "import acquire as a "
   ]
  },
  {
   "cell_type": "markdown",
   "metadata": {},
   "source": [
    "### Acquiring Player Data"
   ]
  },
  {
   "cell_type": "code",
   "execution_count": 2,
   "metadata": {},
   "outputs": [],
   "source": [
    "df = a.get_player_data() ## using our acquire functionn "
   ]
  },
  {
   "cell_type": "code",
   "execution_count": 3,
   "metadata": {},
   "outputs": [
    {
     "data": {
      "text/html": [
       "<div>\n",
       "<style scoped>\n",
       "    .dataframe tbody tr th:only-of-type {\n",
       "        vertical-align: middle;\n",
       "    }\n",
       "\n",
       "    .dataframe tbody tr th {\n",
       "        vertical-align: top;\n",
       "    }\n",
       "\n",
       "    .dataframe thead th {\n",
       "        text-align: right;\n",
       "    }\n",
       "</style>\n",
       "<table border=\"1\" class=\"dataframe\">\n",
       "  <thead>\n",
       "    <tr style=\"text-align: right;\">\n",
       "      <th></th>\n",
       "      <th>name</th>\n",
       "      <th>country</th>\n",
       "      <th>teams</th>\n",
       "      <th>total_maps</th>\n",
       "      <th>total_rounds</th>\n",
       "      <th>kd_diff</th>\n",
       "      <th>kd</th>\n",
       "      <th>rating</th>\n",
       "    </tr>\n",
       "  </thead>\n",
       "  <tbody>\n",
       "    <tr>\n",
       "      <th>0</th>\n",
       "      <td>ZywOo</td>\n",
       "      <td>France</td>\n",
       "      <td>['Vitality', 'aAa']</td>\n",
       "      <td>854</td>\n",
       "      <td>22399</td>\n",
       "      <td>5248</td>\n",
       "      <td>1.38</td>\n",
       "      <td>1.28</td>\n",
       "    </tr>\n",
       "    <tr>\n",
       "      <th>1</th>\n",
       "      <td>s1mple</td>\n",
       "      <td>Ukraine</td>\n",
       "      <td>['Natus Vincere', 'FlipSid3']</td>\n",
       "      <td>1429</td>\n",
       "      <td>37717</td>\n",
       "      <td>8070</td>\n",
       "      <td>1.33</td>\n",
       "      <td>1.25</td>\n",
       "    </tr>\n",
       "    <tr>\n",
       "      <th>2</th>\n",
       "      <td>deko</td>\n",
       "      <td>Russia</td>\n",
       "      <td>['1WIN']</td>\n",
       "      <td>190</td>\n",
       "      <td>5096</td>\n",
       "      <td>1250</td>\n",
       "      <td>1.42</td>\n",
       "      <td>1.24</td>\n",
       "    </tr>\n",
       "    <tr>\n",
       "      <th>3</th>\n",
       "      <td>saffee</td>\n",
       "      <td>Brazil</td>\n",
       "      <td>['paiN']</td>\n",
       "      <td>202</td>\n",
       "      <td>5383</td>\n",
       "      <td>1211</td>\n",
       "      <td>1.37</td>\n",
       "      <td>1.24</td>\n",
       "    </tr>\n",
       "    <tr>\n",
       "      <th>4</th>\n",
       "      <td>sh1ro</td>\n",
       "      <td>Russia</td>\n",
       "      <td>['Gambit', 'Gambit Youngsters']</td>\n",
       "      <td>744</td>\n",
       "      <td>19780</td>\n",
       "      <td>4593</td>\n",
       "      <td>1.43</td>\n",
       "      <td>1.22</td>\n",
       "    </tr>\n",
       "  </tbody>\n",
       "</table>\n",
       "</div>"
      ],
      "text/plain": [
       "     name  country                            teams  total_maps  total_rounds  \\\n",
       "0   ZywOo   France              ['Vitality', 'aAa']         854         22399   \n",
       "1  s1mple  Ukraine    ['Natus Vincere', 'FlipSid3']        1429         37717   \n",
       "2    deko   Russia                         ['1WIN']         190          5096   \n",
       "3  saffee   Brazil                         ['paiN']         202          5383   \n",
       "4   sh1ro   Russia  ['Gambit', 'Gambit Youngsters']         744         19780   \n",
       "\n",
       "   kd_diff    kd  rating  \n",
       "0     5248  1.38    1.28  \n",
       "1     8070  1.33    1.25  \n",
       "2     1250  1.42    1.24  \n",
       "3     1211  1.37    1.24  \n",
       "4     4593  1.43    1.22  "
      ]
     },
     "execution_count": 3,
     "metadata": {},
     "output_type": "execute_result"
    }
   ],
   "source": [
    "df.head() ## previewing our data"
   ]
  },
  {
   "cell_type": "markdown",
   "metadata": {},
   "source": [
    "Doesn't look like we have a lot of observations if there are any null values we will need to consider filling them to retain as many observations as possible"
   ]
  },
  {
   "cell_type": "markdown",
   "metadata": {},
   "source": [
    "#### Numerical Statistics Dataframe"
   ]
  },
  {
   "cell_type": "code",
   "execution_count": 4,
   "metadata": {},
   "outputs": [
    {
     "data": {
      "text/html": [
       "<div>\n",
       "<style scoped>\n",
       "    .dataframe tbody tr th:only-of-type {\n",
       "        vertical-align: middle;\n",
       "    }\n",
       "\n",
       "    .dataframe tbody tr th {\n",
       "        vertical-align: top;\n",
       "    }\n",
       "\n",
       "    .dataframe thead th {\n",
       "        text-align: right;\n",
       "    }\n",
       "</style>\n",
       "<table border=\"1\" class=\"dataframe\">\n",
       "  <thead>\n",
       "    <tr style=\"text-align: right;\">\n",
       "      <th></th>\n",
       "      <th>count</th>\n",
       "      <th>mean</th>\n",
       "      <th>std</th>\n",
       "      <th>min</th>\n",
       "      <th>25%</th>\n",
       "      <th>50%</th>\n",
       "      <th>75%</th>\n",
       "      <th>max</th>\n",
       "      <th>range</th>\n",
       "    </tr>\n",
       "  </thead>\n",
       "  <tbody>\n",
       "    <tr>\n",
       "      <th>total_maps</th>\n",
       "      <td>1869.0</td>\n",
       "      <td>435.231675</td>\n",
       "      <td>391.291072</td>\n",
       "      <td>100.00</td>\n",
       "      <td>152.00</td>\n",
       "      <td>271.00</td>\n",
       "      <td>592.00</td>\n",
       "      <td>2064.00</td>\n",
       "      <td>1964.0</td>\n",
       "    </tr>\n",
       "    <tr>\n",
       "      <th>total_rounds</th>\n",
       "      <td>1869.0</td>\n",
       "      <td>11399.083467</td>\n",
       "      <td>10298.045537</td>\n",
       "      <td>2348.00</td>\n",
       "      <td>3977.00</td>\n",
       "      <td>7076.00</td>\n",
       "      <td>15532.00</td>\n",
       "      <td>54137.00</td>\n",
       "      <td>51789.0</td>\n",
       "    </tr>\n",
       "    <tr>\n",
       "      <th>kd_diff</th>\n",
       "      <td>1869.0</td>\n",
       "      <td>180.254147</td>\n",
       "      <td>991.956591</td>\n",
       "      <td>-6238.00</td>\n",
       "      <td>-269.00</td>\n",
       "      <td>-32.00</td>\n",
       "      <td>352.00</td>\n",
       "      <td>8070.00</td>\n",
       "      <td>14308.0</td>\n",
       "    </tr>\n",
       "    <tr>\n",
       "      <th>kd</th>\n",
       "      <td>1869.0</td>\n",
       "      <td>0.996726</td>\n",
       "      <td>0.100515</td>\n",
       "      <td>0.63</td>\n",
       "      <td>0.93</td>\n",
       "      <td>0.99</td>\n",
       "      <td>1.06</td>\n",
       "      <td>1.43</td>\n",
       "      <td>0.8</td>\n",
       "    </tr>\n",
       "    <tr>\n",
       "      <th>rating</th>\n",
       "      <td>1869.0</td>\n",
       "      <td>0.985757</td>\n",
       "      <td>0.075545</td>\n",
       "      <td>0.68</td>\n",
       "      <td>0.94</td>\n",
       "      <td>0.99</td>\n",
       "      <td>1.03</td>\n",
       "      <td>1.28</td>\n",
       "      <td>0.6</td>\n",
       "    </tr>\n",
       "  </tbody>\n",
       "</table>\n",
       "</div>"
      ],
      "text/plain": [
       "               count          mean           std      min      25%      50%  \\\n",
       "total_maps    1869.0    435.231675    391.291072   100.00   152.00   271.00   \n",
       "total_rounds  1869.0  11399.083467  10298.045537  2348.00  3977.00  7076.00   \n",
       "kd_diff       1869.0    180.254147    991.956591 -6238.00  -269.00   -32.00   \n",
       "kd            1869.0      0.996726      0.100515     0.63     0.93     0.99   \n",
       "rating        1869.0      0.985757      0.075545     0.68     0.94     0.99   \n",
       "\n",
       "                   75%       max    range  \n",
       "total_maps      592.00   2064.00   1964.0  \n",
       "total_rounds  15532.00  54137.00  51789.0  \n",
       "kd_diff         352.00   8070.00  14308.0  \n",
       "kd                1.06      1.43      0.8  \n",
       "rating            1.03      1.28      0.6  "
      ]
     },
     "execution_count": 4,
     "metadata": {},
     "output_type": "execute_result"
    }
   ],
   "source": [
    "stats_df = a.acquire_stats(df) ## using our custom function to output numerical statistics\n",
    "## for the player stats dataframe\n",
    "\n",
    "stats_df.head() ## previewing our numerical statistics dataframe"
   ]
  },
  {
   "cell_type": "markdown",
   "metadata": {},
   "source": [
    "#### Acquire Exploration: Data Types, Nulls, & Distributions"
   ]
  },
  {
   "cell_type": "code",
   "execution_count": 5,
   "metadata": {},
   "outputs": [
    {
     "ename": "AttributeError",
     "evalue": "module 'acquire' has no attribute 'summarize_data'",
     "output_type": "error",
     "traceback": [
      "\u001b[0;31m---------------------------------------------------------------------------\u001b[0m",
      "\u001b[0;31mAttributeError\u001b[0m                            Traceback (most recent call last)",
      "\u001b[0;32m<ipython-input-5-ee3aee13750b>\u001b[0m in \u001b[0;36m<module>\u001b[0;34m\u001b[0m\n\u001b[0;32m----> 1\u001b[0;31m \u001b[0ma\u001b[0m\u001b[0;34m.\u001b[0m\u001b[0msummarize_data\u001b[0m\u001b[0;34m(\u001b[0m\u001b[0mdf\u001b[0m\u001b[0;34m)\u001b[0m \u001b[0;31m## using our custome script function to look at data types and nulls\u001b[0m\u001b[0;34m\u001b[0m\u001b[0;34m\u001b[0m\u001b[0m\n\u001b[0m",
      "\u001b[0;31mAttributeError\u001b[0m: module 'acquire' has no attribute 'summarize_data'"
     ]
    }
   ],
   "source": [
    "a.summarize_data(df) ## using our custome script function to look at data types and nulls"
   ]
  },
  {
   "cell_type": "code",
   "execution_count": null,
   "metadata": {},
   "outputs": [],
   "source": [
    "## using our customer script funciton to look at distributions\n",
    "a.univariate_distributions(df) "
   ]
  },
  {
   "cell_type": "code",
   "execution_count": null,
   "metadata": {},
   "outputs": [],
   "source": []
  }
 ],
 "metadata": {
  "kernelspec": {
   "display_name": "Python 3",
   "language": "python",
   "name": "python3"
  },
  "language_info": {
   "codemirror_mode": {
    "name": "ipython",
    "version": 3
   },
   "file_extension": ".py",
   "mimetype": "text/x-python",
   "name": "python",
   "nbconvert_exporter": "python",
   "pygments_lexer": "ipython3",
   "version": "3.8.5"
  }
 },
 "nbformat": 4,
 "nbformat_minor": 4
}
