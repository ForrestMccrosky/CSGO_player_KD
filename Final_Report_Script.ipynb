{
 "cells": [
  {
   "cell_type": "code",
   "execution_count": 1,
   "metadata": {},
   "outputs": [],
   "source": [
    "import pandas as pd\n",
    "import numpy as np\n",
    "import matplotlib.pyplot as plt\n",
    "\n",
    "import seaborn as sns\n",
    "\n",
    "\n",
    "# feature selection imports\n",
    "from sklearn.feature_selection import SelectKBest, f_regression\n",
    "from sklearn.feature_selection import RFE\n",
    "\n",
    "# import scaling methods\n",
    "from sklearn.preprocessing import RobustScaler, StandardScaler\n",
    "from scipy import stats\n",
    "from sklearn.model_selection import train_test_split\n",
    "\n",
    "# import modeling methods\n",
    "from sklearn.cluster import KMeans\n",
    "from sklearn.metrics import mean_squared_error, r2_score \n",
    "from sklearn.linear_model import LinearRegression, LassoLars, TweedieRegressor\n",
    "from sklearn.preprocessing import PolynomialFeatures\n",
    "from sklearn.metrics import explained_variance_score\n",
    "from scipy import stats\n",
    "\n",
    "# import to remove warnings\n",
    "import warnings\n",
    "warnings.filterwarnings(\"ignore\")\n",
    "\n",
    "## custome script imports\n",
    "import acquire as a \n",
    "import prepare as p"
   ]
  },
  {
   "cell_type": "markdown",
   "metadata": {},
   "source": [
    "### Acquiring Player Data"
   ]
  },
  {
   "cell_type": "code",
   "execution_count": 2,
   "metadata": {},
   "outputs": [],
   "source": [
    "df = a.get_player_data() ## using our acquire functionn "
   ]
  },
  {
   "cell_type": "code",
   "execution_count": 3,
   "metadata": {},
   "outputs": [
    {
     "data": {
      "text/html": [
       "<div>\n",
       "<style scoped>\n",
       "    .dataframe tbody tr th:only-of-type {\n",
       "        vertical-align: middle;\n",
       "    }\n",
       "\n",
       "    .dataframe tbody tr th {\n",
       "        vertical-align: top;\n",
       "    }\n",
       "\n",
       "    .dataframe thead th {\n",
       "        text-align: right;\n",
       "    }\n",
       "</style>\n",
       "<table border=\"1\" class=\"dataframe\">\n",
       "  <thead>\n",
       "    <tr style=\"text-align: right;\">\n",
       "      <th></th>\n",
       "      <th>name</th>\n",
       "      <th>country</th>\n",
       "      <th>teams</th>\n",
       "      <th>total_maps</th>\n",
       "      <th>total_rounds</th>\n",
       "      <th>kd_diff</th>\n",
       "      <th>kd</th>\n",
       "      <th>rating</th>\n",
       "    </tr>\n",
       "  </thead>\n",
       "  <tbody>\n",
       "    <tr>\n",
       "      <th>0</th>\n",
       "      <td>ZywOo</td>\n",
       "      <td>France</td>\n",
       "      <td>['Vitality', 'aAa']</td>\n",
       "      <td>854</td>\n",
       "      <td>22399</td>\n",
       "      <td>5248</td>\n",
       "      <td>1.38</td>\n",
       "      <td>1.28</td>\n",
       "    </tr>\n",
       "    <tr>\n",
       "      <th>1</th>\n",
       "      <td>s1mple</td>\n",
       "      <td>Ukraine</td>\n",
       "      <td>['Natus Vincere', 'FlipSid3']</td>\n",
       "      <td>1429</td>\n",
       "      <td>37717</td>\n",
       "      <td>8070</td>\n",
       "      <td>1.33</td>\n",
       "      <td>1.25</td>\n",
       "    </tr>\n",
       "    <tr>\n",
       "      <th>2</th>\n",
       "      <td>deko</td>\n",
       "      <td>Russia</td>\n",
       "      <td>['1WIN']</td>\n",
       "      <td>190</td>\n",
       "      <td>5096</td>\n",
       "      <td>1250</td>\n",
       "      <td>1.42</td>\n",
       "      <td>1.24</td>\n",
       "    </tr>\n",
       "    <tr>\n",
       "      <th>3</th>\n",
       "      <td>saffee</td>\n",
       "      <td>Brazil</td>\n",
       "      <td>['paiN']</td>\n",
       "      <td>202</td>\n",
       "      <td>5383</td>\n",
       "      <td>1211</td>\n",
       "      <td>1.37</td>\n",
       "      <td>1.24</td>\n",
       "    </tr>\n",
       "    <tr>\n",
       "      <th>4</th>\n",
       "      <td>sh1ro</td>\n",
       "      <td>Russia</td>\n",
       "      <td>['Gambit', 'Gambit Youngsters']</td>\n",
       "      <td>744</td>\n",
       "      <td>19780</td>\n",
       "      <td>4593</td>\n",
       "      <td>1.43</td>\n",
       "      <td>1.22</td>\n",
       "    </tr>\n",
       "  </tbody>\n",
       "</table>\n",
       "</div>"
      ],
      "text/plain": [
       "     name  country                            teams  total_maps  total_rounds  \\\n",
       "0   ZywOo   France              ['Vitality', 'aAa']         854         22399   \n",
       "1  s1mple  Ukraine    ['Natus Vincere', 'FlipSid3']        1429         37717   \n",
       "2    deko   Russia                         ['1WIN']         190          5096   \n",
       "3  saffee   Brazil                         ['paiN']         202          5383   \n",
       "4   sh1ro   Russia  ['Gambit', 'Gambit Youngsters']         744         19780   \n",
       "\n",
       "   kd_diff    kd  rating  \n",
       "0     5248  1.38    1.28  \n",
       "1     8070  1.33    1.25  \n",
       "2     1250  1.42    1.24  \n",
       "3     1211  1.37    1.24  \n",
       "4     4593  1.43    1.22  "
      ]
     },
     "execution_count": 3,
     "metadata": {},
     "output_type": "execute_result"
    }
   ],
   "source": [
    "df.head() ## previewing our data"
   ]
  },
  {
   "cell_type": "markdown",
   "metadata": {},
   "source": [
    "#### Numerical Statistics Dataframe"
   ]
  },
  {
   "cell_type": "code",
   "execution_count": 4,
   "metadata": {},
   "outputs": [
    {
     "data": {
      "text/html": [
       "<div>\n",
       "<style scoped>\n",
       "    .dataframe tbody tr th:only-of-type {\n",
       "        vertical-align: middle;\n",
       "    }\n",
       "\n",
       "    .dataframe tbody tr th {\n",
       "        vertical-align: top;\n",
       "    }\n",
       "\n",
       "    .dataframe thead th {\n",
       "        text-align: right;\n",
       "    }\n",
       "</style>\n",
       "<table border=\"1\" class=\"dataframe\">\n",
       "  <thead>\n",
       "    <tr style=\"text-align: right;\">\n",
       "      <th></th>\n",
       "      <th>count</th>\n",
       "      <th>mean</th>\n",
       "      <th>std</th>\n",
       "      <th>min</th>\n",
       "      <th>25%</th>\n",
       "      <th>50%</th>\n",
       "      <th>75%</th>\n",
       "      <th>max</th>\n",
       "      <th>range</th>\n",
       "    </tr>\n",
       "  </thead>\n",
       "  <tbody>\n",
       "    <tr>\n",
       "      <th>total_maps</th>\n",
       "      <td>1869.0</td>\n",
       "      <td>435.231675</td>\n",
       "      <td>391.291072</td>\n",
       "      <td>100.00</td>\n",
       "      <td>152.00</td>\n",
       "      <td>271.00</td>\n",
       "      <td>592.00</td>\n",
       "      <td>2064.00</td>\n",
       "      <td>1964.0</td>\n",
       "    </tr>\n",
       "    <tr>\n",
       "      <th>total_rounds</th>\n",
       "      <td>1869.0</td>\n",
       "      <td>11399.083467</td>\n",
       "      <td>10298.045537</td>\n",
       "      <td>2348.00</td>\n",
       "      <td>3977.00</td>\n",
       "      <td>7076.00</td>\n",
       "      <td>15532.00</td>\n",
       "      <td>54137.00</td>\n",
       "      <td>51789.0</td>\n",
       "    </tr>\n",
       "    <tr>\n",
       "      <th>kd_diff</th>\n",
       "      <td>1869.0</td>\n",
       "      <td>180.254147</td>\n",
       "      <td>991.956591</td>\n",
       "      <td>-6238.00</td>\n",
       "      <td>-269.00</td>\n",
       "      <td>-32.00</td>\n",
       "      <td>352.00</td>\n",
       "      <td>8070.00</td>\n",
       "      <td>14308.0</td>\n",
       "    </tr>\n",
       "    <tr>\n",
       "      <th>kd</th>\n",
       "      <td>1869.0</td>\n",
       "      <td>0.996726</td>\n",
       "      <td>0.100515</td>\n",
       "      <td>0.63</td>\n",
       "      <td>0.93</td>\n",
       "      <td>0.99</td>\n",
       "      <td>1.06</td>\n",
       "      <td>1.43</td>\n",
       "      <td>0.8</td>\n",
       "    </tr>\n",
       "    <tr>\n",
       "      <th>rating</th>\n",
       "      <td>1869.0</td>\n",
       "      <td>0.985757</td>\n",
       "      <td>0.075545</td>\n",
       "      <td>0.68</td>\n",
       "      <td>0.94</td>\n",
       "      <td>0.99</td>\n",
       "      <td>1.03</td>\n",
       "      <td>1.28</td>\n",
       "      <td>0.6</td>\n",
       "    </tr>\n",
       "  </tbody>\n",
       "</table>\n",
       "</div>"
      ],
      "text/plain": [
       "               count          mean           std      min      25%      50%  \\\n",
       "total_maps    1869.0    435.231675    391.291072   100.00   152.00   271.00   \n",
       "total_rounds  1869.0  11399.083467  10298.045537  2348.00  3977.00  7076.00   \n",
       "kd_diff       1869.0    180.254147    991.956591 -6238.00  -269.00   -32.00   \n",
       "kd            1869.0      0.996726      0.100515     0.63     0.93     0.99   \n",
       "rating        1869.0      0.985757      0.075545     0.68     0.94     0.99   \n",
       "\n",
       "                   75%       max    range  \n",
       "total_maps      592.00   2064.00   1964.0  \n",
       "total_rounds  15532.00  54137.00  51789.0  \n",
       "kd_diff         352.00   8070.00  14308.0  \n",
       "kd                1.06      1.43      0.8  \n",
       "rating            1.03      1.28      0.6  "
      ]
     },
     "execution_count": 4,
     "metadata": {},
     "output_type": "execute_result"
    }
   ],
   "source": [
    "stats_df = a.acquire_stats(df) ## using our custom function to output numerical statistics\n",
    "## for the player stats dataframe\n",
    "\n",
    "stats_df.head() ## previewing our numerical statistics dataframe"
   ]
  },
  {
   "cell_type": "markdown",
   "metadata": {},
   "source": [
    "#### Acquire Exploration: Data Types, Nulls, & Distributions"
   ]
  },
  {
   "cell_type": "code",
   "execution_count": 5,
   "metadata": {},
   "outputs": [
    {
     "name": "stdout",
     "output_type": "stream",
     "text": [
      "Info on Columns and Datatypes:\n",
      "\n",
      "<class 'pandas.core.frame.DataFrame'>\n",
      "Int64Index: 1869 entries, 0 to 1868\n",
      "Data columns (total 8 columns):\n",
      " #   Column        Non-Null Count  Dtype  \n",
      "---  ------        --------------  -----  \n",
      " 0   name          1869 non-null   object \n",
      " 1   country       1869 non-null   object \n",
      " 2   teams         1869 non-null   object \n",
      " 3   total_maps    1869 non-null   int64  \n",
      " 4   total_rounds  1869 non-null   int64  \n",
      " 5   kd_diff       1869 non-null   int64  \n",
      " 6   kd            1869 non-null   float64\n",
      " 7   rating        1869 non-null   float64\n",
      "dtypes: float64(2), int64(3), object(3)\n",
      "memory usage: 131.4+ KB\n",
      "None\n",
      "------------------------------------------------\n",
      "\n",
      "Value Counts for country:\n",
      "\n",
      "United States    204\n",
      "Brazil           138\n",
      "Australia        134\n",
      "Denmark          120\n",
      "Russia           118\n",
      "                ... \n",
      "Lebanon            1\n",
      "Italy              1\n",
      "Azerbaijan         1\n",
      "Ireland            1\n",
      "Hong Kong          1\n",
      "Name: country, Length: 72, dtype: int64\n",
      "--------------------\n",
      "Value Counts for teams:\n",
      "\n",
      "['fnatic']                                                         5\n",
      "['eSuba']                                                          5\n",
      "['Tricked']                                                        5\n",
      "['Natus Vincere']                                                  5\n",
      "['NAVI Junior']                                                    5\n",
      "                                                                  ..\n",
      "['KILLERFISH', 'PENTA', 'PENTA']                                   1\n",
      "['VERTEX', 'TRUCKERS WITH ATTITUDE', 'Airborne']                   1\n",
      "['Luminosity', 'SK', 'Immortals', 'RED Canids', 'Não Tem Como']    1\n",
      "['SK', 'MIBR', 'MIBR', 'Liquid', 'Luminosity']                     1\n",
      "['Torqued', 'Quantic', 'eUnited']                                  1\n",
      "Name: teams, Length: 1640, dtype: int64\n",
      "--------------------\n"
     ]
    }
   ],
   "source": [
    "a.summarize_df(df) ## using our custom script function to look at data types and nulls"
   ]
  },
  {
   "cell_type": "markdown",
   "metadata": {},
   "source": [
    "Doesn't look like we have a lot of observations if there are any null values we will need to consider filling them to retain as many observations as possible"
   ]
  },
  {
   "cell_type": "code",
   "execution_count": 6,
   "metadata": {},
   "outputs": [
    {
     "name": "stdout",
     "output_type": "stream",
     "text": [
      "Distribution of total_maps\n",
      "\n"
     ]
    },
    {
     "data": {
      "image/png": "[encoded data removed]",
      "text/plain": [
       "<Figure size 432x288 with 1 Axes>"
      ]
     },
     "metadata": {
      "needs_background": "light"
     },
     "output_type": "display_data"
    },
    {
     "name": "stdout",
     "output_type": "stream",
     "text": [
      "--------------------\n",
      "Distribution of total_rounds\n",
      "\n"
     ]
    },
    {
     "data": {
      "image/png": "[encoded data removed]",
      "text/plain": [
       "<Figure size 432x288 with 1 Axes>"
      ]
     },
     "metadata": {
      "needs_background": "light"
     },
     "output_type": "display_data"
    },
    {
     "name": "stdout",
     "output_type": "stream",
     "text": [
      "--------------------\n",
      "Distribution of kd_diff\n",
      "\n"
     ]
    },
    {
     "data": {
      "image/png": "[encoded data removed]",
      "text/plain": [
       "<Figure size 432x288 with 1 Axes>"
      ]
     },
     "metadata": {
      "needs_background": "light"
     },
     "output_type": "display_data"
    },
    {
     "name": "stdout",
     "output_type": "stream",
     "text": [
      "--------------------\n",
      "Distribution of kd\n",
      "\n"
     ]
    },
    {
     "data": {
      "image/png": "[encoded data removed]",
      "text/plain": [
       "<Figure size 432x288 with 1 Axes>"
      ]
     },
     "metadata": {
      "needs_background": "light"
     },
     "output_type": "display_data"
    },
    {
     "name": "stdout",
     "output_type": "stream",
     "text": [
      "--------------------\n",
      "Distribution of rating\n",
      "\n"
     ]
    },
    {
     "data": {
      "image/png": "[encoded data removed]",
      "text/plain": [
       "<Figure size 432x288 with 1 Axes>"
      ]
     },
     "metadata": {
      "needs_background": "light"
     },
     "output_type": "display_data"
    },
    {
     "name": "stdout",
     "output_type": "stream",
     "text": [
      "--------------------\n"
     ]
    }
   ],
   "source": [
    "## using our custom script funciton to look at distributions\n",
    "a.univariate_distributions(df) "
   ]
  },
  {
   "cell_type": "markdown",
   "metadata": {},
   "source": [
    "The kd, kd diff, and rating of a player are relatively normally distributed.\n",
    "\n",
    "The total maps and total rounds are tailing to the right."
   ]
  },
  {
   "cell_type": "markdown",
   "metadata": {},
   "source": [
    "### Preparing Player Stats"
   ]
  },
  {
   "cell_type": "markdown",
   "metadata": {},
   "source": [
    "First we will double check to make sure we have no nulls or duplicates withing our data. Since we have such a small amount of observations we will want to fill these if they are among the data."
   ]
  },
  {
   "cell_type": "code",
   "execution_count": 7,
   "metadata": {},
   "outputs": [
    {
     "data": {
      "text/plain": [
       "name            0\n",
       "country         0\n",
       "teams           0\n",
       "total_maps      0\n",
       "total_rounds    0\n",
       "kd_diff         0\n",
       "kd              0\n",
       "rating          0\n",
       "dtype: int64"
      ]
     },
     "execution_count": 7,
     "metadata": {},
     "output_type": "execute_result"
    }
   ],
   "source": [
    "df.isnull().sum() ## checking for null values"
   ]
  },
  {
   "cell_type": "code",
   "execution_count": 8,
   "metadata": {},
   "outputs": [
    {
     "data": {
      "text/plain": [
       "0"
      ]
     },
     "execution_count": 8,
     "metadata": {},
     "output_type": "execute_result"
    }
   ],
   "source": [
    "df.duplicated().sum() ## checking for duplicate rows."
   ]
  },
  {
   "cell_type": "markdown",
   "metadata": {},
   "source": [
    "Now we can confirm we don't have any null values or duplicate rows and carry forward with splitting the data."
   ]
  },
  {
   "cell_type": "markdown",
   "metadata": {},
   "source": [
    "#### Stripping Spaces from String Columns"
   ]
  },
  {
   "cell_type": "code",
   "execution_count": 9,
   "metadata": {},
   "outputs": [],
   "source": [
    "df = p.strip_strings(df) ## using our strip string function to make sure the string valued\n",
    "## columns are clean and ready for exploration and modeling"
   ]
  },
  {
   "cell_type": "markdown",
   "metadata": {},
   "source": [
    "#### Train, Validate, Test Splitting Data"
   ]
  },
  {
   "cell_type": "code",
   "execution_count": 10,
   "metadata": {},
   "outputs": [
    {
     "name": "stdout",
     "output_type": "stream",
     "text": [
      "Making Sure Our Shapes Look Good\n",
      "Train: (1046, 8), Validate: (449, 8), Test: (374, 8)\n"
     ]
    }
   ],
   "source": [
    "## using our data split function to split into train validate, & test dataframes\n",
    "\n",
    "train, validate, test = p.split_data(df) "
   ]
  },
  {
   "cell_type": "code",
   "execution_count": 14,
   "metadata": {},
   "outputs": [
    {
     "data": {
      "text/html": [
       "<div>\n",
       "<style scoped>\n",
       "    .dataframe tbody tr th:only-of-type {\n",
       "        vertical-align: middle;\n",
       "    }\n",
       "\n",
       "    .dataframe tbody tr th {\n",
       "        vertical-align: top;\n",
       "    }\n",
       "\n",
       "    .dataframe thead th {\n",
       "        text-align: right;\n",
       "    }\n",
       "</style>\n",
       "<table border=\"1\" class=\"dataframe\">\n",
       "  <thead>\n",
       "    <tr style=\"text-align: right;\">\n",
       "      <th></th>\n",
       "      <th>name</th>\n",
       "      <th>country</th>\n",
       "      <th>teams</th>\n",
       "      <th>total_maps</th>\n",
       "      <th>total_rounds</th>\n",
       "      <th>kd_diff</th>\n",
       "      <th>kd</th>\n",
       "      <th>rating</th>\n",
       "    </tr>\n",
       "  </thead>\n",
       "  <tbody>\n",
       "    <tr>\n",
       "      <th>875</th>\n",
       "      <td>s0m</td>\n",
       "      <td>United States</td>\n",
       "      <td>['Gen.G', 'Gen.G', 'Envy', 'Naventic']</td>\n",
       "      <td>358</td>\n",
       "      <td>9528</td>\n",
       "      <td>28</td>\n",
       "      <td>1.00</td>\n",
       "      <td>0.99</td>\n",
       "    </tr>\n",
       "    <tr>\n",
       "      <th>1507</th>\n",
       "      <td>S0tF1k</td>\n",
       "      <td>Russia</td>\n",
       "      <td>['Spirit', 'Spirit', 'Espada']</td>\n",
       "      <td>1274</td>\n",
       "      <td>33567</td>\n",
       "      <td>-1878</td>\n",
       "      <td>0.92</td>\n",
       "      <td>0.92</td>\n",
       "    </tr>\n",
       "    <tr>\n",
       "      <th>739</th>\n",
       "      <td>pounh</td>\n",
       "      <td>Lithuania</td>\n",
       "      <td>['Playing Ducks', 'Imperial', '1337HUANIA']</td>\n",
       "      <td>401</td>\n",
       "      <td>10552</td>\n",
       "      <td>91</td>\n",
       "      <td>1.01</td>\n",
       "      <td>1.00</td>\n",
       "    </tr>\n",
       "    <tr>\n",
       "      <th>1719</th>\n",
       "      <td>torben</td>\n",
       "      <td>Denmark</td>\n",
       "      <td>['Fragsters']</td>\n",
       "      <td>532</td>\n",
       "      <td>13939</td>\n",
       "      <td>-1196</td>\n",
       "      <td>0.87</td>\n",
       "      <td>0.88</td>\n",
       "    </tr>\n",
       "    <tr>\n",
       "      <th>593</th>\n",
       "      <td>TENZKI</td>\n",
       "      <td>Denmark</td>\n",
       "      <td>['Nordavind', 'Dignitas', 'Rogue']</td>\n",
       "      <td>1469</td>\n",
       "      <td>38637</td>\n",
       "      <td>1372</td>\n",
       "      <td>1.05</td>\n",
       "      <td>1.02</td>\n",
       "    </tr>\n",
       "  </tbody>\n",
       "</table>\n",
       "</div>"
      ],
      "text/plain": [
       "        name        country                                        teams  \\\n",
       "875      s0m  United States       ['Gen.G', 'Gen.G', 'Envy', 'Naventic']   \n",
       "1507  S0tF1k         Russia               ['Spirit', 'Spirit', 'Espada']   \n",
       "739    pounh      Lithuania  ['Playing Ducks', 'Imperial', '1337HUANIA']   \n",
       "1719  torben        Denmark                                ['Fragsters']   \n",
       "593   TENZKI        Denmark           ['Nordavind', 'Dignitas', 'Rogue']   \n",
       "\n",
       "      total_maps  total_rounds  kd_diff    kd  rating  \n",
       "875          358          9528       28  1.00    0.99  \n",
       "1507        1274         33567    -1878  0.92    0.92  \n",
       "739          401         10552       91  1.01    1.00  \n",
       "1719         532         13939    -1196  0.87    0.88  \n",
       "593         1469         38637     1372  1.05    1.02  "
      ]
     },
     "execution_count": 14,
     "metadata": {},
     "output_type": "execute_result"
    }
   ],
   "source": [
    "train.head() ## previewing train"
   ]
  },
  {
   "cell_type": "code",
   "execution_count": 13,
   "metadata": {},
   "outputs": [
    {
     "data": {
      "text/html": [
       "<div>\n",
       "<style scoped>\n",
       "    .dataframe tbody tr th:only-of-type {\n",
       "        vertical-align: middle;\n",
       "    }\n",
       "\n",
       "    .dataframe tbody tr th {\n",
       "        vertical-align: top;\n",
       "    }\n",
       "\n",
       "    .dataframe thead th {\n",
       "        text-align: right;\n",
       "    }\n",
       "</style>\n",
       "<table border=\"1\" class=\"dataframe\">\n",
       "  <thead>\n",
       "    <tr style=\"text-align: right;\">\n",
       "      <th></th>\n",
       "      <th>name</th>\n",
       "      <th>country</th>\n",
       "      <th>teams</th>\n",
       "      <th>total_maps</th>\n",
       "      <th>total_rounds</th>\n",
       "      <th>kd_diff</th>\n",
       "      <th>kd</th>\n",
       "      <th>rating</th>\n",
       "    </tr>\n",
       "  </thead>\n",
       "  <tbody>\n",
       "    <tr>\n",
       "      <th>817</th>\n",
       "      <td>ALEX</td>\n",
       "      <td>United Kingdom</td>\n",
       "      <td>['LDLC', 'LDLC', 'Vitality']</td>\n",
       "      <td>1040</td>\n",
       "      <td>27531</td>\n",
       "      <td>-248</td>\n",
       "      <td>0.99</td>\n",
       "      <td>1.00</td>\n",
       "    </tr>\n",
       "    <tr>\n",
       "      <th>1392</th>\n",
       "      <td>DomiNate</td>\n",
       "      <td>Sweden</td>\n",
       "      <td>['Publiclir.se', 'ArchAngels']</td>\n",
       "      <td>187</td>\n",
       "      <td>4922</td>\n",
       "      <td>-238</td>\n",
       "      <td>0.93</td>\n",
       "      <td>0.94</td>\n",
       "    </tr>\n",
       "    <tr>\n",
       "      <th>1648</th>\n",
       "      <td>sycrone</td>\n",
       "      <td>Denmark</td>\n",
       "      <td>['Sprout', 'North Academy', 'Tricked', 'Team123']</td>\n",
       "      <td>553</td>\n",
       "      <td>14608</td>\n",
       "      <td>-978</td>\n",
       "      <td>0.90</td>\n",
       "      <td>0.90</td>\n",
       "    </tr>\n",
       "    <tr>\n",
       "      <th>804</th>\n",
       "      <td>cromen</td>\n",
       "      <td>Norway</td>\n",
       "      <td>['Nordavind']</td>\n",
       "      <td>653</td>\n",
       "      <td>17335</td>\n",
       "      <td>67</td>\n",
       "      <td>1.01</td>\n",
       "      <td>1.00</td>\n",
       "    </tr>\n",
       "    <tr>\n",
       "      <th>133</th>\n",
       "      <td>mixwell</td>\n",
       "      <td>Spain</td>\n",
       "      <td>['OpTic', 'Movistar Riders']</td>\n",
       "      <td>840</td>\n",
       "      <td>21804</td>\n",
       "      <td>1911</td>\n",
       "      <td>1.13</td>\n",
       "      <td>1.09</td>\n",
       "    </tr>\n",
       "  </tbody>\n",
       "</table>\n",
       "</div>"
      ],
      "text/plain": [
       "          name         country  \\\n",
       "817       ALEX  United Kingdom   \n",
       "1392  DomiNate          Sweden   \n",
       "1648   sycrone         Denmark   \n",
       "804     cromen          Norway   \n",
       "133    mixwell           Spain   \n",
       "\n",
       "                                                  teams  total_maps  \\\n",
       "817                        ['LDLC', 'LDLC', 'Vitality']        1040   \n",
       "1392                     ['Publiclir.se', 'ArchAngels']         187   \n",
       "1648  ['Sprout', 'North Academy', 'Tricked', 'Team123']         553   \n",
       "804                                       ['Nordavind']         653   \n",
       "133                        ['OpTic', 'Movistar Riders']         840   \n",
       "\n",
       "      total_rounds  kd_diff    kd  rating  \n",
       "817          27531     -248  0.99    1.00  \n",
       "1392          4922     -238  0.93    0.94  \n",
       "1648         14608     -978  0.90    0.90  \n",
       "804          17335       67  1.01    1.00  \n",
       "133          21804     1911  1.13    1.09  "
      ]
     },
     "execution_count": 13,
     "metadata": {},
     "output_type": "execute_result"
    }
   ],
   "source": [
    "validate.head() ## previewing validate"
   ]
  },
  {
   "cell_type": "code",
   "execution_count": 15,
   "metadata": {},
   "outputs": [
    {
     "data": {
      "text/html": [
       "<div>\n",
       "<style scoped>\n",
       "    .dataframe tbody tr th:only-of-type {\n",
       "        vertical-align: middle;\n",
       "    }\n",
       "\n",
       "    .dataframe tbody tr th {\n",
       "        vertical-align: top;\n",
       "    }\n",
       "\n",
       "    .dataframe thead th {\n",
       "        text-align: right;\n",
       "    }\n",
       "</style>\n",
       "<table border=\"1\" class=\"dataframe\">\n",
       "  <thead>\n",
       "    <tr style=\"text-align: right;\">\n",
       "      <th></th>\n",
       "      <th>name</th>\n",
       "      <th>country</th>\n",
       "      <th>teams</th>\n",
       "      <th>total_maps</th>\n",
       "      <th>total_rounds</th>\n",
       "      <th>kd_diff</th>\n",
       "      <th>kd</th>\n",
       "      <th>rating</th>\n",
       "    </tr>\n",
       "  </thead>\n",
       "  <tbody>\n",
       "    <tr>\n",
       "      <th>1121</th>\n",
       "      <td>SEMINTE</td>\n",
       "      <td>Romania</td>\n",
       "      <td>['Nexus', 'XPC']</td>\n",
       "      <td>607</td>\n",
       "      <td>15872</td>\n",
       "      <td>-366</td>\n",
       "      <td>0.97</td>\n",
       "      <td>0.97</td>\n",
       "    </tr>\n",
       "    <tr>\n",
       "      <th>582</th>\n",
       "      <td>MoeycQ</td>\n",
       "      <td>Australia</td>\n",
       "      <td>['Immunity', 'Chiefs', 'Ground Zero', 'AVANT']</td>\n",
       "      <td>613</td>\n",
       "      <td>15920</td>\n",
       "      <td>410</td>\n",
       "      <td>1.04</td>\n",
       "      <td>1.02</td>\n",
       "    </tr>\n",
       "    <tr>\n",
       "      <th>43</th>\n",
       "      <td>zAAz</td>\n",
       "      <td>Sweden</td>\n",
       "      <td>['Secret fe', 'Besiktas', 'Bad Monkey']</td>\n",
       "      <td>227</td>\n",
       "      <td>5502</td>\n",
       "      <td>606</td>\n",
       "      <td>1.16</td>\n",
       "      <td>1.13</td>\n",
       "    </tr>\n",
       "    <tr>\n",
       "      <th>898</th>\n",
       "      <td>Drone</td>\n",
       "      <td>United States</td>\n",
       "      <td>['Splyce', 'Envy']</td>\n",
       "      <td>454</td>\n",
       "      <td>11841</td>\n",
       "      <td>-168</td>\n",
       "      <td>0.98</td>\n",
       "      <td>0.99</td>\n",
       "    </tr>\n",
       "    <tr>\n",
       "      <th>1083</th>\n",
       "      <td>b0bbzki</td>\n",
       "      <td>Sweden</td>\n",
       "      <td>['Singularity', 'Gatekeepers', 'fightclub']</td>\n",
       "      <td>278</td>\n",
       "      <td>7248</td>\n",
       "      <td>-240</td>\n",
       "      <td>0.95</td>\n",
       "      <td>0.97</td>\n",
       "    </tr>\n",
       "  </tbody>\n",
       "</table>\n",
       "</div>"
      ],
      "text/plain": [
       "         name        country                                           teams  \\\n",
       "1121  SEMINTE        Romania                                ['Nexus', 'XPC']   \n",
       "582    MoeycQ      Australia  ['Immunity', 'Chiefs', 'Ground Zero', 'AVANT']   \n",
       "43       zAAz         Sweden         ['Secret fe', 'Besiktas', 'Bad Monkey']   \n",
       "898     Drone  United States                              ['Splyce', 'Envy']   \n",
       "1083  b0bbzki         Sweden     ['Singularity', 'Gatekeepers', 'fightclub']   \n",
       "\n",
       "      total_maps  total_rounds  kd_diff    kd  rating  \n",
       "1121         607         15872     -366  0.97    0.97  \n",
       "582          613         15920      410  1.04    1.02  \n",
       "43           227          5502      606  1.16    1.13  \n",
       "898          454         11841     -168  0.98    0.99  \n",
       "1083         278          7248     -240  0.95    0.97  "
      ]
     },
     "execution_count": 15,
     "metadata": {},
     "output_type": "execute_result"
    }
   ],
   "source": [
    "test.head() ## previewing test"
   ]
  },
  {
   "cell_type": "code",
   "execution_count": null,
   "metadata": {},
   "outputs": [],
   "source": []
  }
 ],
 "metadata": {
  "kernelspec": {
   "display_name": "Python 3",
   "language": "python",
   "name": "python3"
  },
  "language_info": {
   "codemirror_mode": {
    "name": "ipython",
    "version": 3
   },
   "file_extension": ".py",
   "mimetype": "text/x-python",
   "name": "python",
   "nbconvert_exporter": "python",
   "pygments_lexer": "ipython3",
   "version": "3.8.5"
  }
 },
 "nbformat": 4,
 "nbformat_minor": 4
}
